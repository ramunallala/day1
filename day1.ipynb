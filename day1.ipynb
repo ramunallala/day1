{
 "cells": [
  {
   "cell_type": "markdown",
   "metadata": {},
   "source": [
    "# Control"
   ]
  },
  {
   "cell_type": "markdown",
   "metadata": {},
   "source": [
    "## simple if\n"
   ]
  },
  {
   "cell_type": "markdown",
   "metadata": {},
   "source": [
    "syntax of if statement\n",
    "if condition:\n",
    "    statements"
   ]
  },
  {
   "cell_type": "code",
   "execution_count": 2,
   "metadata": {},
   "outputs": [
    {
     "name": "stdout",
     "output_type": "stream",
     "text": [
      "-5 is negative number\n"
     ]
    }
   ],
   "source": [
    "num= -5\n",
    "if num<0:\n",
    "    print(num,'is negative number')\n",
    "    "
   ]
  },
  {
   "cell_type": "markdown",
   "metadata": {},
   "source": [
    "## input function"
   ]
  },
  {
   "cell_type": "code",
   "execution_count": 3,
   "metadata": {},
   "outputs": [
    {
     "name": "stdout",
     "output_type": "stream",
     "text": [
      "enter a value5\n",
      "5\n"
     ]
    }
   ],
   "source": [
    "a=input(\"enter a value\")\n",
    "print(a)"
   ]
  },
  {
   "cell_type": "code",
   "execution_count": 4,
   "metadata": {},
   "outputs": [
    {
     "name": "stdout",
     "output_type": "stream",
     "text": [
      "enter a value5\n",
      "5 <class 'str'>\n"
     ]
    }
   ],
   "source": [
    "a=input(\"enter a value\")\n",
    "print(a,type(a))"
   ]
  },
  {
   "cell_type": "code",
   "execution_count": 5,
   "metadata": {
    "scrolled": true
   },
   "outputs": [
    {
     "name": "stdout",
     "output_type": "stream",
     "text": [
      "enter a vlaue6\n",
      "enter b value5\n",
      "addition of 6 and 5 is 65\n"
     ]
    }
   ],
   "source": [
    "a=input(\"enter a vlaue\")\n",
    "b=input(\"enter b value\")\n",
    "print(\"addition of\",a,\"and\",b,\"is\",a+b)"
   ]
  },
  {
   "cell_type": "code",
   "execution_count": 6,
   "metadata": {},
   "outputs": [
    {
     "name": "stdout",
     "output_type": "stream",
     "text": [
      "enter a vlaue5\n",
      "enter b value6\n",
      "addition of 5 and 6 is 11\n"
     ]
    }
   ],
   "source": [
    "a=int(input(\"enter a vlaue\"))\n",
    "b=int(input(\"enter b value\"))\n",
    "print(\"addition of\",a,\"and\",b,\"is\",a+b)"
   ]
  },
  {
   "cell_type": "markdown",
   "metadata": {},
   "source": [
    "## if-else"
   ]
  },
  {
   "cell_type": "code",
   "execution_count": 7,
   "metadata": {},
   "outputs": [
    {
     "name": "stdout",
     "output_type": "stream",
     "text": [
      "enter a value:56\n",
      "56 is positive number\n"
     ]
    }
   ],
   "source": [
    "num= int(input(\"enter a value:\"))\n",
    "if num<0:\n",
    "    print(num,\"is negative number\")\n",
    "else:\n",
    "    print(num,\"is positive number\")"
   ]
  },
  {
   "cell_type": "code",
   "execution_count": 9,
   "metadata": {},
   "outputs": [
    {
     "name": "stdout",
     "output_type": "stream",
     "text": [
      "enter x value56\n",
      "enter y value73\n",
      "73 y is big number\n"
     ]
    }
   ],
   "source": [
    "x=int(input(\"enter x value\"))\n",
    "y=int(input(\"enter y value\"))\n",
    "if x>y:\n",
    "    print(x,\"x is big number\")\n",
    "else:\n",
    "    print(y,\"y is big number\")"
   ]
  },
  {
   "cell_type": "markdown",
   "metadata": {},
   "source": [
    "### largest of 2numbers"
   ]
  },
  {
   "cell_type": "code",
   "execution_count": 10,
   "metadata": {},
   "outputs": [
    {
     "name": "stdout",
     "output_type": "stream",
     "text": [
      "enter first number:5\n",
      "enter second number:5\n",
      "two are equal numbers\n"
     ]
    }
   ],
   "source": [
    "a= int(input(\"enter first number:\"))\n",
    "b= int(input(\"enter second number:\"))\n",
    "if a<b:\n",
    "    print(b,'is largest number')\n",
    "elif a>b:\n",
    "    print(a,'is largest number')\n",
    "else:\n",
    "    print('two are equal numbers')"
   ]
  },
  {
   "cell_type": "markdown",
   "metadata": {},
   "source": [
    "## largest of 3 number"
   ]
  },
  {
   "cell_type": "code",
   "execution_count": 11,
   "metadata": {},
   "outputs": [
    {
     "ename": "SyntaxError",
     "evalue": "invalid syntax (<ipython-input-11-987b16317205>, line 8)",
     "output_type": "error",
     "traceback": [
      "\u001b[1;36m  File \u001b[1;32m\"<ipython-input-11-987b16317205>\"\u001b[1;36m, line \u001b[1;32m8\u001b[0m\n\u001b[1;33m    else c>b&a:\u001b[0m\n\u001b[1;37m         ^\u001b[0m\n\u001b[1;31mSyntaxError\u001b[0m\u001b[1;31m:\u001b[0m invalid syntax\n"
     ]
    }
   ],
   "source": [
    "a=int(input(\"enter the first number:\"))\n",
    "b=int(input(\"enter the second number:\"))\n",
    "c=int(input(\"enter the third number:\"))\n",
    "if a>b&c:\n",
    "        print(a,\"is largest number\")\n",
    "elif b>a&c:\n",
    "        print(b,\"largest number\")\n",
    "else c>b&a:\n",
    "        print(c,\"largest number\")"
   ]
  },
  {
   "cell_type": "code",
   "execution_count": null,
   "metadata": {},
   "outputs": [],
   "source": [
    "Input Format:\n",
    "    enter lower bound number:10\n",
    "    enter upper bound number:20\n",
    "    enter N:15\n",
    "Output Format:\n",
    "    given number is exist"
   ]
  },
  {
   "cell_type": "code",
   "execution_count": null,
   "metadata": {},
   "outputs": [],
   "source": []
  }
 ],
 "metadata": {
  "kernelspec": {
   "display_name": "Python 3",
   "language": "python",
   "name": "python3"
  },
  "language_info": {
   "codemirror_mode": {
    "name": "ipython",
    "version": 3
   },
   "file_extension": ".py",
   "mimetype": "text/x-python",
   "name": "python",
   "nbconvert_exporter": "python",
   "pygments_lexer": "ipython3",
   "version": "3.7.3"
  }
 },
 "nbformat": 4,
 "nbformat_minor": 2
}
